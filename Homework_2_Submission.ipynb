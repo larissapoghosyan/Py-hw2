{
 "cells": [
  {
   "cell_type": "markdown",
   "metadata": {},
   "source": [
    "## Homework 2 Submission\n",
    "Write your name and surname below:\n",
    "<br>\n",
    "Name:\n",
    "<br>\n",
    "Surname:"
   ]
  },
  {
   "cell_type": "markdown",
   "metadata": {},
   "source": [
    "***Problem 1:***<br>a. Write a lambda function that raises a number to the third power and maps it on the following list creating a new list named \"result\".<br>\n",
    "b.  Define a function that takes a number as an input and returns True if it is odd and False otherwise. Filter \"result\" list keeping only odd numbers using the function defined."
   ]
  },
  {
   "cell_type": "code",
   "execution_count": 6,
   "metadata": {},
   "outputs": [
    {
     "name": "stdout",
     "output_type": "stream",
     "text": [
      "exercise a.\n",
      "[27, 64, 125, 216, 343]\n"
     ]
    }
   ],
   "source": [
    "print(\"exercise a.\")\n",
    "nums = [3, 4, 5, 6, 7]\n",
    "###_____________Start code here_________________###\n",
    "\n",
    "lamb = lambda x: pow(x,3)\n",
    "result = list(map(lamb,nums))\n",
    "\n",
    "print(result)\n",
    "\n",
    "###_____________End code here_________________###"
   ]
  },
  {
   "cell_type": "code",
   "execution_count": 11,
   "metadata": {},
   "outputs": [
    {
     "name": "stdout",
     "output_type": "stream",
     "text": [
      "exercise b.\n"
     ]
    }
   ],
   "source": [
    "#b\n",
    "print(\"exercise b.\")\n",
    "###_____________Start code here_________________###\n",
    "\n",
    "\n",
    "foo = list(filter(lambda x: True if (x%2)!=0 else False, result))\n",
    "###_____________End code here_________________###"
   ]
  },
  {
   "cell_type": "markdown",
   "metadata": {},
   "source": [
    "***Problem 2:*** <br>Write a program that asks a user to provide  a name  and a surname and returns a new email with  \"@edu.aua.am\" ending and underscore between the name and surname.<br> **Example**:\n",
    "For a person named Steve Jobs the email should be steve_jobs@edu.aua.am."
   ]
  },
  {
   "cell_type": "code",
   "execution_count": null,
   "metadata": {},
   "outputs": [],
   "source": [
    "###_____________Start code here_________________###\n",
    "print(Exercise 2.)\n",
    "name = input(\"name: \")\n",
    "surname = input(\"surname: \")\n",
    "emailadd= name + \"-\" + surname + \"@edu.aua.am\"\n",
    "print(emailadd)\n",
    "\n",
    "###_____________End code here_________________###"
   ]
  },
  {
   "cell_type": "markdown",
   "metadata": {},
   "source": [
    "***Problem 3:*** <br> a. Use an assert statement to make sure that the passed list is not empty and if it is empty report it with an expression that tells the list being empty <br>b. Write a function that asks a user to input numbers separated by a comma and return the average of numbers.<br> Make sure to warn the user if he/she provided as an input anything other than number.<br>\n",
    "**Hint:** You can use try/except."
   ]
  },
  {
   "cell_type": "code",
   "execution_count": null,
   "metadata": {},
   "outputs": [],
   "source": [
    "print('Exercise 4.a')\n",
    "#a\n",
    "def avg(nums):\n",
    "    assert len(num0) != 0\n",
    "    return sum(nums)/len(nums)\n",
    "num0 = []\n",
    "print(\"Average num0:\",avg(num0))"
   ]
  },
  {
   "cell_type": "code",
   "execution_count": null,
   "metadata": {},
   "outputs": [],
   "source": [
    "#b\n",
    "print('Exercise 4.b')\n",
    "###_____________Start code here_________________###\n",
    "\n",
    "numbers = input(\"write numbers seperated by commas\")\n",
    "lis =numbers.split(',')\n",
    "try:\n",
    "    newlis = [int(i) for i in lis]\n",
    "except:\n",
    "    print(\"not number\")\n",
    "\n",
    "else:\n",
    "    avn = sum(newlis)/len(newlis)\n",
    "    print (avn)\n",
    "\n",
    "###_____________End code here_________________###"
   ]
  },
  {
   "cell_type": "markdown",
   "metadata": {},
   "source": [
    "***Problem 4:***  <br>Given the list below, create a new one that contains all the numeric elements of the nested lists using list comprehensions.<br>\n",
    "**Note:** \"10\" is numeric. <br>\n",
    "**Hint:** Use isdigit() method to check whether a string is numeric."
   ]
  },
  {
   "cell_type": "code",
   "execution_count": null,
   "metadata": {},
   "outputs": [],
   "source": [
    "list_of_list = [[1,\"issa str\",4, 7],[2,\"5\",6,\"Not a num\"],[3,\"8\",9,10]]\n",
    "###_____________Start code here_________________###\n",
    "\n",
    "lis = [int(i) for n in list_of_list for i in n if str(i).isdigit()]\n",
    "print(lis)\n",
    "\n",
    "###_____________End code here_________________###"
   ]
  },
  {
   "cell_type": "markdown",
   "metadata": {},
   "source": [
    "***Problem 5:***<br>Increase the following data scientists' salaries by 10 percent except for Lord Voldemort using dictionary comprehension."
   ]
  },
  {
   "cell_type": "code",
   "execution_count": null,
   "metadata": {},
   "outputs": [],
   "source": [
    "print('Exercise 5.')\n",
    "\n",
    "Data_Scientist={\"Harry Potter\":700,\"Ron Weasley\":650,\"Lord Voldemort\":900,\"Hermione Granger\":800,\"Albus Dumbledore\":1000}\n",
    "\n",
    "\n",
    "###_____________Start code here_________________###\n",
    "\n",
    "dict0 = {i:(int(n*1.1) if n != \"Lord Voldemort\" else int(n*1)) for (i,n) in Data_Scientist.items() }\n",
    "print(dict0)\n",
    "\n",
    "###_____________End code here_________________###"
   ]
  },
  {
   "cell_type": "markdown",
   "metadata": {},
   "source": [
    "***Problem 6:***<br>a. Create a new folder in your current directory named \"files\" and change directory into that folder.<br>\n",
    "b. There are 4 famous quotes in \"quotes\" list provided below. Create/write 4 separate txt files one for each quote.<br>\n",
    "c. List all the files in \"files\" directory and loop over the files to read the quotes and write all quotes in a new txt file called \"combined.txt\".\n",
    "<br>**Note: Do not forget to change back to your working directory for the remaining problems.**"
   ]
  },
  {
   "cell_type": "code",
   "execution_count": null,
   "metadata": {},
   "outputs": [],
   "source": [
    "#a\n",
    "print('Exercise 6.a')\n",
    "###_____________Start code here_________________###\n",
    "\n",
    "import os\n",
    "os.mkdir(\"files\")\n",
    "os.chdir(\"files\")\n",
    "\n",
    "\n",
    "\n",
    "os.getcwd()\n",
    "\n",
    "\n",
    "###_____________End code here_________________###"
   ]
  },
  {
   "cell_type": "code",
   "execution_count": null,
   "metadata": {},
   "outputs": [],
   "source": [
    "print('Exercise 6.b')\n",
    "#b\n",
    "quotes=[\"I'm going to make him an offer he can't refuse.\",\n",
    "\"The first rule of Fight Club is: You do not talk about Fight Club.\",\n",
    "\"Of all the gin joints in all the towns in all the world, she walks into mine.\", \n",
    "\"Being brave doesn't mean you go looking for trouble․\"]\n",
    "\n",
    "###_____________Start code here_________________###\n",
    "\n",
    "files = [\"first\", \"sec\", \"thr\",\"frth\"]\n",
    "for i in files:\n",
    "    with open(\"{}.txt\".format(i),\"w\") as file:\n",
    "        \n",
    "        file.write(quotes[files.index(i)])\n",
    "\n",
    "###_____________End code here_________________###"
   ]
  },
  {
   "cell_type": "code",
   "execution_count": null,
   "metadata": {},
   "outputs": [],
   "source": [
    "print('Exercise 6.c')\n",
    "#c\n",
    "###_____________Start code here_________________###\n",
    "\n",
    "file = os.listdir()\n",
    "quotes=[i for i in file if \".txt\" in i]\n",
    "lin=[]\n",
    "for i in quotes:\n",
    "    with open(i,\"r\") as file:\n",
    "        a=file.read()\n",
    "        lin.append(a)\n",
    "with open('combined.txt',\"a\") as comb:\n",
    "    for i in lin:\n",
    "        comb.write(i)\n",
    "            \n",
    "with open(\"combined.txt\",\"r\") as comb:\n",
    "    n=comb.readline()\n",
    "    print(n)\n",
    "###_____________End code here_________________###"
   ]
  },
  {
   "cell_type": "markdown",
   "metadata": {},
   "source": [
    "***Problem 7:***\n",
    "<br>a. Calculate the value of \"string\" expression given below.<br>\n",
    "b. Execute the code written in \"code.txt\" file attached."
   ]
  },
  {
   "cell_type": "code",
   "execution_count": 5,
   "metadata": {},
   "outputs": [],
   "source": [
    "print('Exercise 7.a.')\n",
    "#a\n",
    "a=5\n",
    "c=2\n",
    "strr='round((a+51)**c/75,-1)+1'\n",
    "\n",
    "###_____________Start code here_________________###\n",
    "\n",
    "print(eval(strr))\n",
    "###_____________End code here_________________###\n"
   ]
  },
  {
   "cell_type": "code",
   "execution_count": null,
   "metadata": {},
   "outputs": [],
   "source": [
    "print('Exercise 7.b:')\n",
    "#b\n",
    "\n",
    "###_____________Start code here_________________###\n",
    "\n",
    "import os\n",
    "os.chdir('..')\n",
    "print(os.getcwd())\n",
    "os.listdir()\n",
    "with open(\"code.txt\",\"r\") as code:\n",
    "    n = code.readlines()\n",
    "    for i in n:\n",
    "        ni = compile(i,\"cds\",\"exc\")\n",
    "        if exec(ni) != None:\n",
    "            print(exec(ni))\n",
    "###_____________End code here_________________###\n"
   ]
  },
  {
   "cell_type": "markdown",
   "metadata": {},
   "source": [
    "***Problem 8:***<br>\n",
    "**a.**<br> Our 5 students' test scores are now stored in the 2-d array \"student_scores\". Each row stores the corresponding test's scores. <br>\n",
    "Calculate the mean of grades of each student(columns) and the median of grades per test (rows)?"
   ]
  },
  {
   "cell_type": "code",
   "execution_count": null,
   "metadata": {},
   "outputs": [],
   "source": [
    "print('Exercise 8.a:')\n",
    "student_scores = np.array([[92, 94, 88, 91, 87],\n",
    "                           [79, 100, 86, 93, 91],\n",
    "                           [87, 85, 72, 90, 92]])\n",
    "\n",
    "###_____________Start code here_________________###\n",
    "\n",
    "import numpy as np\n",
    "\n",
    "\n",
    "mid = []\n",
    "alltg= []\n",
    "for i in range(5):\n",
    "    mark=(student_scores[:,i]) \n",
    "    mean = np.mean(mark)\n",
    "    alltg.append(int(mean))\n",
    "\n",
    "for i in student_scores:\n",
    "    med = np.mid(i)\n",
    "    mid.append(int(med))\n",
    "print(alltg)\n",
    "print(mid)\n",
    "###_____________End code here_________________###"
   ]
  },
  {
   "cell_type": "markdown",
   "metadata": {},
   "source": [
    "**b.**<br>\n",
    "Create a logical statement that selects elements in \"porridge\" array that are less than 60, and saves them in a new array called \"cold\".<br>\n",
    "Create a logical statement that finds all elements that are higher than 80 and saves them in an array named \"hot\"."
   ]
  },
  {
   "cell_type": "code",
   "execution_count": null,
   "metadata": {},
   "outputs": [],
   "source": [
    "print('Exercise 8.b:')\n",
    "porridge = np.array([79, 65, 50, 63, 56, 90, 85, 98, 79, 51])\n",
    "###_____________Start code here_________________###\n",
    "\n",
    "cold = porridge[porridge < 60]\n",
    "hot = porridge[porridge > 60]\n",
    "print(cold, hot)\n",
    "###_____________End code here_________________###"
   ]
  },
  {
   "cell_type": "markdown",
   "metadata": {},
   "source": [
    "***Problem 9:***<br><br>**Note:** You do not have to create arrays mannualy; you can use NumPy methods for the below assignments.\n",
    "<br>**a.** Create a null vector of length 100 then assign 10 to 5th value.<br>\n",
    "**b.** Create a vector of length 10 with random integers between 1 and 10.<br>\n",
    "**c.** Convert the given 1D array to a 2D array with 5 rows and 2 columns.\n",
    "<br> **Hint:** You can use numpy's reshape, random.randint, random.random methods for the below assignments."
   ]
  },
  {
   "cell_type": "code",
   "execution_count": null,
   "metadata": {},
   "outputs": [],
   "source": [
    "print('Exercise 9.a:')\n",
    "#a\n",
    "###_____________Start code here_________________###\n",
    "nullvct = np.random.randint(1, size=100)\n",
    "nullvct[4] = 10\n",
    "print(nullvct)\n",
    "\n",
    "###_____________End code here_________________###"
   ]
  },
  {
   "cell_type": "code",
   "execution_count": null,
   "metadata": {},
   "outputs": [],
   "source": [
    "print('Exercise 9.b:')\n",
    "#b\n",
    "###_____________Start code here_________________###\n",
    "\n",
    "vct =np.random.randint(10, size=10)\n",
    "print(vct)\n",
    "###_____________End code here_________________###"
   ]
  },
  {
   "cell_type": "code",
   "execution_count": null,
   "metadata": {},
   "outputs": [],
   "source": [
    "print('Exercise 9.c:')\n",
    "#c\n",
    "arr=np.array([ 0, 1, 2, 3, 4, 5, 6, 7, 8, 9])\n",
    "###_____________Start code here_________________###\n",
    "\n",
    "arr0 =  np.reshape(arr, (5,2))\n",
    "print(arr0)\n",
    "###_____________End code here_________________###"
   ]
  },
  {
   "cell_type": "markdown",
   "metadata": {},
   "source": [
    "***Problem 10:***<br>\n",
    "Create a DataFrame with the provided data. We have already filled in the information for \"Product ID\" in \"df1\".<br>\n",
    "Write a code to create the columns \"Product Name\" and \"Color\" with the data given below.</center><br>\n",
    "Products are a pair of blue jeans, a green t-shirt, a black hat and white shoes.<br>\n",
    "After all output (save) it as an .xlsx file in your current directory."
   ]
  },
  {
   "cell_type": "code",
   "execution_count": 14,
   "metadata": {},
   "outputs": [
    {
     "data": {
      "text/html": [
       "<div>\n",
       "<style scoped>\n",
       "    .dataframe tbody tr th:only-of-type {\n",
       "        vertical-align: middle;\n",
       "    }\n",
       "\n",
       "    .dataframe tbody tr th {\n",
       "        vertical-align: top;\n",
       "    }\n",
       "\n",
       "    .dataframe thead th {\n",
       "        text-align: right;\n",
       "    }\n",
       "</style>\n",
       "<table border=\"1\" class=\"dataframe\">\n",
       "  <thead>\n",
       "    <tr style=\"text-align: right;\">\n",
       "      <th></th>\n",
       "      <th>Product ID</th>\n",
       "      <th>Product Name</th>\n",
       "    </tr>\n",
       "  </thead>\n",
       "  <tbody>\n",
       "    <tr>\n",
       "      <th>0</th>\n",
       "      <td>1</td>\n",
       "      <td>pair of blue jeans</td>\n",
       "    </tr>\n",
       "    <tr>\n",
       "      <th>1</th>\n",
       "      <td>2</td>\n",
       "      <td>green t-shirt</td>\n",
       "    </tr>\n",
       "    <tr>\n",
       "      <th>2</th>\n",
       "      <td>3</td>\n",
       "      <td>black hat</td>\n",
       "    </tr>\n",
       "    <tr>\n",
       "      <th>3</th>\n",
       "      <td>4</td>\n",
       "      <td>white shoes</td>\n",
       "    </tr>\n",
       "  </tbody>\n",
       "</table>\n",
       "</div>"
      ],
      "text/plain": [
       "   Product ID        Product Name\n",
       "0           1  pair of blue jeans\n",
       "1           2       green t-shirt\n",
       "2           3           black hat\n",
       "3           4         white shoes"
      ]
     },
     "execution_count": 14,
     "metadata": {},
     "output_type": "execute_result"
    }
   ],
   "source": [
    "print('Exercise 10:')\n",
    "import pandas as pd\n",
    "df1 = pd.DataFrame({\n",
    "  'Product ID': [1, 2, 3, 4],\"Product Name\":[\"Products: pair of blue jeans\",\"green t-shirt\",\"black hat\",\"white shoes\"]})\n",
    "df1.to_excel(\"df1.xlsx\", index=False)\n",
    "print(df1)\n",
    " \n",
    "    ###_____________End code here_________________###"
   ]
  },
  {
   "cell_type": "markdown",
   "metadata": {},
   "source": [
    "***Problem 11:***<br>Read the attached file \"titanic.csv\" as DataFrame \"df\", have a look at first 5 rows and get information about the dataset using info() method.</strong><br>\n"
   ]
  },
  {
   "cell_type": "code",
   "execution_count": null,
   "metadata": {},
   "outputs": [],
   "source": [
    "###_____________Start code here_________________###\n",
    "df = pd.read_csv(\"titanic.csv\")\n",
    "print(df.head())\n",
    "\n",
    "print(df.info())\n",
    "\n",
    "###_____________End code here_________________###"
   ]
  },
  {
   "cell_type": "markdown",
   "metadata": {},
   "source": [
    "Here is the description of dataset columns:\n",
    "survival - Survival (0 = No; 1 = Yes)<br>\n",
    "class - Passenger Class (1 = 1st; 2 = 2nd; 3 = 3rd)<br>\n",
    "sex - Sex<br>\n",
    "age - Age<br>\n",
    "sibsp - Number of Siblings/Spouses Aboard<br>\n",
    "parch - Number of Parents/Children Aboard<br>\n",
    "ticket - Ticket Numbe\n",
    "fare - Passenger Fare<br>\n",
    "cabin - Cabin<br>\n",
    "embarked - Port of Embarkation (C = Cherbourg; Q = Queenstown; S = Southampton)<br>\n",
    "boat - Lifeboat (if survived)<br>\n",
    "body - Body number (if did not survive and body was recovered)<br>\n",
    "home.dest - Adress of people\n",
    "<br><br>\n",
    "a. Drop columns cabin, embarked, boat, body, home.dest."
   ]
  },
  {
   "cell_type": "code",
   "execution_count": null,
   "metadata": {},
   "outputs": [],
   "source": [
    "print(\"Exercise 11:\")\n",
    "#a\n",
    "###_____________Start code here_________________###\n",
    "\n",
    "drr =df.drop([\"cabin\",\"embarked\",\"boat\",\"body\",\"home.dest\"],axis=1)\n",
    "drr\n",
    "###_____________End code here_________________###"
   ]
  },
  {
   "cell_type": "markdown",
   "metadata": {},
   "source": [
    "b. Check how many rows contain missing values."
   ]
  },
  {
   "cell_type": "code",
   "execution_count": 10,
   "metadata": {},
   "outputs": [],
   "source": [
    "print(\"Exercice 11.b:\")\n",
    "#b\n",
    "###_____________Start code here_________________###\n",
    "a = list(df.isna().any())\n",
    "b = 0\n",
    "for i in a:\n",
    "    if i:\n",
    "        b+=1\n",
    "b\n",
    "\n",
    "###_____________End code here_________________###"
   ]
  },
  {
   "cell_type": "markdown",
   "metadata": {},
   "source": [
    "c. Fill missing values in age column by its mean or median."
   ]
  },
  {
   "cell_type": "code",
   "execution_count": null,
   "metadata": {},
   "outputs": [],
   "source": [
    "print(\"Exercice 11.c:\")\n",
    "#c\n",
    "###_____________Start code here_________________###\n",
    "print(df.age)\n",
    "print(\"111111111111111111111111111111111111111111111111111111\")\n",
    "df = df.fillna(df.age.mean())\n",
    "print(\"111111111111111111111111111111111111111111111111111111\")\n",
    "print(df.age)\n",
    "\n",
    "###_____________End code here_________________###"
   ]
  },
  {
   "cell_type": "markdown",
   "metadata": {},
   "source": [
    "d. Drop remaining missing values."
   ]
  },
  {
   "cell_type": "code",
   "execution_count": null,
   "metadata": {},
   "outputs": [],
   "source": [
    "#d\n",
    "###_____________Start code here_________________###\n",
    "\n",
    "df.dropna()\n",
    "###_____________End code here_________________###"
   ]
  },
  {
   "cell_type": "markdown",
   "metadata": {},
   "source": [
    "e. Calculate the percent of survived and not survived by sex."
   ]
  },
  {
   "cell_type": "code",
   "execution_count": null,
   "metadata": {},
   "outputs": [],
   "source": [
    "#e\n",
    "###_____________Start code here_________________###\n",
    "\n",
    "vals0=df[\"survived\"].value_counts()\n",
    "vf = df[\"sex\"].value_counts()\n",
    "\n",
    "nums = df[(df[\"survived\"] == True) & (df[\"sex\"] == \"male\")][\"survived\"].count()\n",
    "numt = df[(df[\"survived\"] == False) & (df[\"sex\"] == \"male\")][\"survived\"].count()\n",
    "numj = df[(df[\"survived\"] == True) & (df[\"sex\"] == \"fem\")][\"survived\"].count()\n",
    "df.groupby([\"sex\",\"survived\"]).count()\n",
    "num_males = len(df.loc[df[\"sex\"]==\"male\",])\n",
    "num_females = len(df.loc[df[\"sex\"]==\"fem\",])\n",
    "nums0 = (nums/num_males)*100\n",
    "numt0 = 100-nums0\n",
    "numj0 = (nums/num_females)*100\n",
    "numv = 100-numt0\n",
    "\n",
    "print(\"Men Survivors\",nums0)\n",
    "print(\"Men didn't survive\",numt0)\n",
    "print(\"Female Survivors\",numj0)\n",
    "print(\"Female that did not survive\",numj0)\n",
    "###_____________End code here_________________###"
   ]
  },
  {
   "cell_type": "markdown",
   "metadata": {},
   "source": [
    "f. Create a new column named \"fare_AMD\" with the prices of tickets in AMD (1 USD = 485 AMD).<br>\n",
    "**Hint:** You can do it by applying a function on column \"fare\"."
   ]
  },
  {
   "cell_type": "code",
   "execution_count": null,
   "metadata": {},
   "outputs": [],
   "source": [
    "#f\n",
    "###_____________Start code here_________________###\n",
    "\n",
    "df[\"fare_AMD\"] = df[\"fare\"].apply(lambda x: str(x * 485)+ \"AMD\")\n",
    "print(df)\n",
    "\n",
    "###_____________End code here_________________###"
   ]
  },
  {
   "cell_type": "markdown",
   "metadata": {},
   "source": [
    "g. Round the values of \"fare\" column and add '$' sign in front of them by applying a lambda function."
   ]
  },
  {
   "cell_type": "code",
   "execution_count": null,
   "metadata": {},
   "outputs": [],
   "source": [
    "\n",
    "#g\n",
    "###_____________Start code here_________________###\n",
    "\n",
    "df[\"fare\"]=df[\"fare\"].apply(lambda x: str(round(float(x)))+ \"$\")\n",
    "\n",
    "###_____________End code here_________________###"
   ]
  },
  {
   "cell_type": "markdown",
   "metadata": {},
   "source": [
    "**Problem 13:**<br>\n",
    "a. Find all names and ages in the text given below using regex and create dictionary where names are keys and ages are values."
   ]
  },
  {
   "cell_type": "code",
   "execution_count": null,
   "metadata": {},
   "outputs": [],
   "source": [
    "text = \"I'm Jonh and I'm 12 year old, Jack is 23 and Suzan is 45 and 2132 they all earning $100\"\n",
    "\n",
    "###_____________Start code here_________________###\n",
    "import re\n",
    "txtlis = text.split()\n",
    "txtlis\n",
    "\n",
    "\n",
    "names = []\n",
    "ages = []\n",
    "for i in txtlis:\n",
    "    pattern = r'[A-Z]'\n",
    "    if (re.search(pattern, i)) and (not(\"'\" in i)):\n",
    "        names.append(i)\n",
    "for i in txtlis:\n",
    "    pattern = r\"[0-9]{0,9}$\"\n",
    "    if re.match(pattern, i):\n",
    "        ages.append(i)\n",
    "\n",
    "disdict = dict(zip(names,ages))\n",
    "\n",
    "\n",
    "print(disdict)\n",
    "\n",
    "###_____________End code here_________________###"
   ]
  },
  {
   "cell_type": "markdown",
   "metadata": {},
   "source": [
    "b. Substitute all email endings in the text given below with \"@hogwarts.com\" using regex."
   ]
  },
  {
   "cell_type": "code",
   "execution_count": null,
   "metadata": {},
   "outputs": [],
   "source": [
    "my_t = \"My name is Harry, my e-mail is HarryPotter@aua.am, I need to send my statement of purpose to careers@aua.am\"\n",
    "\n",
    "###_____________Start code here_________________###\n",
    "\n",
    "dist = re.sub(r'@[\\w\\.-]+',  '@hogwarts.com', my_t)\n",
    "dist\n",
    "###_____________End code here_________________###"
   ]
  },
  {
   "cell_type": "markdown",
   "metadata": {},
   "source": [
    "**Problem 14**\n",
    "<br>Read \"data.txt\" file attached and get all phone numbers and email addresses into separate lists using regex."
   ]
  },
  {
   "cell_type": "code",
   "execution_count": 14,
   "metadata": {},
   "outputs": [],
   "source": [
    "###_____________Start code here_________________###\n",
    "\n",
    "\n",
    "###_____________End code here_________________###"
   ]
  },
  {
   "cell_type": "markdown",
   "metadata": {},
   "source": [
    "***Problem 15***<br>Create a class of a human that has data attribute \"nationality\" as Armenian.<br> Make sure that the class instances of human class have arguments name, surname, profession and salary. <br>The class defined must have a method that returns an expression in this format: \"Hi, I am \"name\" \"surname\". I am a/an \"profession\" and I earn \"salary\" a month.\"<br>\n",
    "Create one or more isntancses of the class and call the class method defined on it or them."
   ]
  },
  {
   "cell_type": "code",
   "execution_count": null,
   "metadata": {},
   "outputs": [],
   "source": [
    "###_____________Start code here_________________###\n",
    "class Human:\n",
    "    nationality = \"Armenian\"\n",
    "    def __init__(self, name, surname, profession, salary):\n",
    "        self.name = name\n",
    "        self.surname = surname\n",
    "        self.profession = profession\n",
    "        self.salary = salary\n",
    "    def introduce(self):\n",
    "        print (\"Hi, I am \" +self.name +\" \"+ self.surname +\". I am a \" +self.profession +\" and I earn \" +str(self.salary) +\" a month.\")\n",
    "y = Human(\"Elen\", \"hdh\",\"prof\",415)\n",
    "x = Human(\"Ani\", \"bsrjtyj\",\"boom\",380)\n",
    "z = Human(\"Sona\", \"hfmt\",\"caree\",1500)\n",
    "y.introduce()\n",
    "x.introduce()\n",
    "z.introduce()\n",
    "\n",
    "###_____________End code here_________________###"
   ]
  },
  {
   "cell_type": "code",
   "execution_count": null,
   "metadata": {},
   "outputs": [],
   "source": []
  }
 ],
 "metadata": {
  "kernelspec": {
   "display_name": "Python 3",
   "language": "python",
   "name": "python3"
  },
  "language_info": {
   "codemirror_mode": {
    "name": "ipython",
    "version": 3
   },
   "file_extension": ".py",
   "mimetype": "text/x-python",
   "name": "python",
   "nbconvert_exporter": "python",
   "pygments_lexer": "ipython3",
   "version": "3.7.1"
  }
 },
 "nbformat": 4,
 "nbformat_minor": 2
}
